{
 "cells": [
  {
   "cell_type": "markdown",
   "metadata": {
    "id": "3OfU4DiyegEw"
   },
   "source": [
    "**Задание (базовый уровень):**\n",
    "Создать модель (без использования готовых решений) простейшего перцептрона, которая будет выполнять функцию логического \"ИЛИ\".\n",
    "\n",
    "**Задание (повышенный уровень):**\n",
    "Создать модель (без использования готовых решений) перцептрона, которая будет выполнять функцию исключающего \"ИЛИ\".\n",
    "\n",
    "*Общее требование:*  Обучение и тестирование должно проходить на зашумленных данных (уровень шума +- 0.45). "
   ]
  },
  {
   "cell_type": "markdown",
   "source": [
    "Импорт библиотек"
   ],
   "metadata": {
    "collapsed": false
   }
  },
  {
   "cell_type": "code",
   "execution_count": 1,
   "metadata": {
    "id": "1n7jcJuwdg3O",
    "ExecuteTime": {
     "end_time": "2024-02-25T21:03:12.052901200Z",
     "start_time": "2024-02-25T21:03:11.728130800Z"
    }
   },
   "outputs": [],
   "source": [
    "import numpy as np\n",
    "import random\n",
    "import copy"
   ]
  },
  {
   "cell_type": "markdown",
   "source": [
    "Создание основы датасета"
   ],
   "metadata": {
    "collapsed": false
   }
  },
  {
   "cell_type": "code",
   "execution_count": 2,
   "outputs": [],
   "source": [
    "dataset = list()\n",
    "\n",
    "dataset.append(([0, 0],0))\n",
    "dataset.append(([0, 1],1))\n",
    "dataset.append(([1, 0],1))\n",
    "dataset.append(([1, 1],0))"
   ],
   "metadata": {
    "collapsed": false,
    "ExecuteTime": {
     "end_time": "2024-02-25T21:03:14.334448800Z",
     "start_time": "2024-02-25T21:03:14.321448700Z"
    }
   }
  },
  {
   "cell_type": "markdown",
   "source": [
    "Создаем зашумленный датасет, глубоким копированием изначального"
   ],
   "metadata": {
    "collapsed": false
   }
  },
  {
   "cell_type": "code",
   "execution_count": 3,
   "outputs": [],
   "source": [
    "noise_dataset = list()\n",
    "for i in range(10000):\n",
    "  noise_dataset.append(copy.deepcopy(random.choice(dataset)))\n",
    "  for j in range(2):\n",
    "    noise_dataset[i][0][j-1] += (random.randint(-45, 45) * 0.01)"
   ],
   "metadata": {
    "collapsed": false,
    "ExecuteTime": {
     "end_time": "2024-02-25T21:03:15.556357800Z",
     "start_time": "2024-02-25T21:03:15.532850900Z"
    }
   }
  },
  {
   "cell_type": "code",
   "execution_count": 4,
   "outputs": [
    {
     "data": {
      "text/plain": "([-0.12, 0.96], 1)"
     },
     "execution_count": 4,
     "metadata": {},
     "output_type": "execute_result"
    }
   ],
   "source": [
    "random.choice(noise_dataset)"
   ],
   "metadata": {
    "collapsed": false,
    "ExecuteTime": {
     "end_time": "2024-02-25T21:03:16.085568Z",
     "start_time": "2024-02-25T21:03:16.059226300Z"
    }
   }
  },
  {
   "cell_type": "markdown",
   "source": [
    "Заполнение вектора весов связей"
   ],
   "metadata": {
    "collapsed": false
   }
  },
  {
   "cell_type": "code",
   "execution_count": 5,
   "outputs": [],
   "source": [
    "first_layer_weights = np.ones((2, 1))"
   ],
   "metadata": {
    "collapsed": false,
    "ExecuteTime": {
     "end_time": "2024-02-25T21:03:17.160639500Z",
     "start_time": "2024-02-25T21:03:17.158644Z"
    }
   }
  },
  {
   "cell_type": "code",
   "execution_count": 6,
   "outputs": [],
   "source": [
    "def result_bin_class(result):\n",
    "  if result > 1:\n",
    "    return True\n",
    "  else:\n",
    "    return False"
   ],
   "metadata": {
    "collapsed": false,
    "ExecuteTime": {
     "end_time": "2024-02-25T21:03:17.612010300Z",
     "start_time": "2024-02-25T21:03:17.606486900Z"
    }
   }
  },
  {
   "cell_type": "markdown",
   "source": [
    "Создадим функцию подсчета суммарного веса полученных сигналов"
   ],
   "metadata": {
    "collapsed": false
   }
  },
  {
   "cell_type": "code",
   "execution_count": 7,
   "outputs": [],
   "source": [
    "def calculate_res(input_number, first_layer_weights):\n",
    "  sum = 0\n",
    "  for i in range(2):\n",
    "    sum += input_number[0][i-1] * first_layer_weights[i]\n",
    "  return sum"
   ],
   "metadata": {
    "collapsed": false,
    "ExecuteTime": {
     "end_time": "2024-02-25T21:03:18.744781700Z",
     "start_time": "2024-02-25T21:03:18.735781900Z"
    }
   }
  },
  {
   "cell_type": "markdown",
   "source": [
    "Зададим функцию, формирующую сигнал корректировки весов в зависимости от соотношения ответа нейронной сети и правильного ответа"
   ],
   "metadata": {
    "collapsed": false
   }
  },
  {
   "cell_type": "code",
   "execution_count": 8,
   "outputs": [],
   "source": [
    "def weight_changing(positive, target):\n",
    "  k = 0\n",
    "  if positive and not target:\n",
    "    k = -0.1\n",
    "  elif not positive and target:\n",
    "    k = 0.1\n",
    "  return k"
   ],
   "metadata": {
    "collapsed": false,
    "ExecuteTime": {
     "end_time": "2024-02-25T21:03:19.755374200Z",
     "start_time": "2024-02-25T21:03:19.744380800Z"
    }
   }
  },
  {
   "cell_type": "markdown",
   "source": [
    "Пропишем функции для обучения нейронной сети"
   ],
   "metadata": {
    "collapsed": false
   }
  },
  {
   "cell_type": "code",
   "execution_count": 9,
   "outputs": [],
   "source": [
    "def learn(input_number, first_layer_weights, target):\n",
    "  k = weight_changing(result_bin_class(calculate_res(input_number, first_layer_weights)), True if input_number[1] == target else False)\n",
    "  for i in range(2):\n",
    "    first_layer_weights[i] += input_number[0][i-1] * k\n",
    "  return first_layer_weights"
   ],
   "metadata": {
    "collapsed": false,
    "ExecuteTime": {
     "end_time": "2024-02-25T21:03:21.004420500Z",
     "start_time": "2024-02-25T21:03:20.997907500Z"
    }
   }
  },
  {
   "cell_type": "code",
   "execution_count": 10,
   "outputs": [],
   "source": [
    "def train_nn(input_dataset, first_layer_weights, target, size_of_data):\n",
    "  for i in range(size_of_data):\n",
    "    first_layer_weights = learn(random.choice(input_dataset), first_layer_weights, target)"
   ],
   "metadata": {
    "collapsed": false,
    "ExecuteTime": {
     "end_time": "2024-02-25T21:03:21.521794900Z",
     "start_time": "2024-02-25T21:03:21.506801500Z"
    }
   }
  },
  {
   "cell_type": "markdown",
   "source": [
    "Пропишем функции для тестирования точности нейросети"
   ],
   "metadata": {
    "collapsed": false
   }
  },
  {
   "cell_type": "code",
   "execution_count": 11,
   "outputs": [],
   "source": [
    "def test(input_number, first_layer_weights, target):\n",
    "  if (result_bin_class(calculate_res(input_number, first_layer_weights)) == (True if input_number[1] == target else False)):\n",
    "    return 1\n",
    "  else:\n",
    "    return 0"
   ],
   "metadata": {
    "collapsed": false,
    "ExecuteTime": {
     "end_time": "2024-02-25T21:03:22.558116800Z",
     "start_time": "2024-02-25T21:03:22.551118200Z"
    }
   }
  },
  {
   "cell_type": "code",
   "execution_count": 12,
   "outputs": [],
   "source": [
    "def test_nn(input_dataset, first_layer_weights, target, size_of_data):\n",
    "  res = 0\n",
    "  for i in range(size_of_data):\n",
    "    res += test(random.choice(input_dataset), first_layer_weights, target)\n",
    "  return (res / size_of_data)"
   ],
   "metadata": {
    "collapsed": false,
    "ExecuteTime": {
     "end_time": "2024-02-25T21:03:23.258272500Z",
     "start_time": "2024-02-25T21:03:23.250256800Z"
    }
   }
  },
  {
   "cell_type": "code",
   "execution_count": 13,
   "outputs": [],
   "source": [
    "train_nn(noise_dataset, first_layer_weights, 1, 8000)"
   ],
   "metadata": {
    "collapsed": false,
    "ExecuteTime": {
     "end_time": "2024-02-25T21:03:23.826495800Z",
     "start_time": "2024-02-25T21:03:23.748498200Z"
    }
   }
  },
  {
   "cell_type": "code",
   "execution_count": 14,
   "outputs": [
    {
     "data": {
      "text/plain": "array([[0.671],\n       [0.565]])"
     },
     "execution_count": 14,
     "metadata": {},
     "output_type": "execute_result"
    }
   ],
   "source": [
    "first_layer_weights"
   ],
   "metadata": {
    "collapsed": false,
    "ExecuteTime": {
     "end_time": "2024-02-25T21:03:24.254876400Z",
     "start_time": "2024-02-25T21:03:24.243878100Z"
    }
   }
  },
  {
   "cell_type": "code",
   "execution_count": 15,
   "outputs": [
    {
     "name": "stdout",
     "output_type": "stream",
     "text": [
      "Accuracy-score:  0.7315\n"
     ]
    }
   ],
   "source": [
    "print('Accuracy-score: ', test_nn(noise_dataset, first_layer_weights, 4, 2000))"
   ],
   "metadata": {
    "collapsed": false,
    "ExecuteTime": {
     "end_time": "2024-02-25T21:03:25.481991500Z",
     "start_time": "2024-02-25T21:03:25.422081200Z"
    }
   }
  }
 ],
 "metadata": {
  "colab": {
   "provenance": []
  },
  "kernelspec": {
   "name": "python3",
   "language": "python",
   "display_name": "Python 3 (ipykernel)"
  },
  "language_info": {
   "name": "python"
  }
 },
 "nbformat": 4,
 "nbformat_minor": 0
}
