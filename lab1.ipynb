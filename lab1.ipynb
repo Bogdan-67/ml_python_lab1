{
 "cells": [
  {
   "cell_type": "markdown",
   "metadata": {
    "id": "3OfU4DiyegEw"
   },
   "source": [
    "**Задание (базовый уровень):**\n",
    "Создать модель (без использования готовых решений) простейшего перцептрона, которая будет выполнять функцию логического \"ИЛИ\".\n",
    "\n",
    "**Задание (повышенный уровень):**\n",
    "Создать модель (без использования готовых решений) перцептрона, которая будет выполнять функцию исключающего \"ИЛИ\".\n",
    "\n",
    "*Общее требование:*  Обучение и тестирование должно проходить на зашумленных данных (уровень шума +- 0.45). "
   ]
  },
  {
   "cell_type": "markdown",
   "source": [
    "Импорт библиотек"
   ],
   "metadata": {
    "collapsed": false
   }
  },
  {
   "cell_type": "code",
   "execution_count": 266,
   "metadata": {
    "id": "1n7jcJuwdg3O",
    "ExecuteTime": {
     "end_time": "2024-02-27T19:22:35.466198800Z",
     "start_time": "2024-02-27T19:22:35.438894600Z"
    }
   },
   "outputs": [],
   "source": [
    "import numpy as np\n",
    "import random\n",
    "import copy"
   ]
  },
  {
   "cell_type": "markdown",
   "source": [
    "Создание основы датасета"
   ],
   "metadata": {
    "collapsed": false
   }
  },
  {
   "cell_type": "code",
   "execution_count": 267,
   "outputs": [],
   "source": [
    "dataset = list()\n",
    "\n",
    "dataset.append(([0, 0],0))\n",
    "dataset.append(([0, 1],1))\n",
    "dataset.append(([1, 0],1))\n",
    "dataset.append(([1, 1],1))"
   ],
   "metadata": {
    "collapsed": false,
    "ExecuteTime": {
     "end_time": "2024-02-27T19:22:35.473199500Z",
     "start_time": "2024-02-27T19:22:35.444482600Z"
    }
   }
  },
  {
   "cell_type": "markdown",
   "source": [
    "Создаем зашумленный датасет, глубоким копированием изначального"
   ],
   "metadata": {
    "collapsed": false
   }
  },
  {
   "cell_type": "code",
   "execution_count": 268,
   "outputs": [],
   "source": [
    "noise_dataset = list()\n",
    "for i in range(10000):\n",
    "  noise_dataset.append(copy.deepcopy(random.choice(dataset)))\n",
    "  for j in range(2):\n",
    "    noise_dataset[i][0][j-1] += (random.randint(-45, 45) * 0.01)"
   ],
   "metadata": {
    "collapsed": false,
    "ExecuteTime": {
     "end_time": "2024-02-27T19:22:35.538868800Z",
     "start_time": "2024-02-27T19:22:35.449440400Z"
    }
   }
  },
  {
   "cell_type": "code",
   "execution_count": 269,
   "outputs": [
    {
     "data": {
      "text/plain": "([0.63, 1.1400000000000001], 1)"
     },
     "execution_count": 269,
     "metadata": {},
     "output_type": "execute_result"
    }
   ],
   "source": [
    "random.choice(noise_dataset)"
   ],
   "metadata": {
    "collapsed": false,
    "ExecuteTime": {
     "end_time": "2024-02-27T19:22:35.544312300Z",
     "start_time": "2024-02-27T19:22:35.539869300Z"
    }
   }
  },
  {
   "cell_type": "markdown",
   "source": [
    "Заполнение вектора весов связей"
   ],
   "metadata": {
    "collapsed": false
   }
  },
  {
   "cell_type": "code",
   "execution_count": 270,
   "outputs": [],
   "source": [
    "first_layer_weights = np.ones((2, 1))"
   ],
   "metadata": {
    "collapsed": false,
    "ExecuteTime": {
     "end_time": "2024-02-27T19:22:35.548293900Z",
     "start_time": "2024-02-27T19:22:35.545780700Z"
    }
   }
  },
  {
   "cell_type": "code",
   "execution_count": 271,
   "outputs": [],
   "source": [
    "def result_bin_class(result):\n",
    "  if result > 0.8:\n",
    "    return True\n",
    "  else:\n",
    "    return False"
   ],
   "metadata": {
    "collapsed": false,
    "ExecuteTime": {
     "end_time": "2024-02-27T19:22:35.552211600Z",
     "start_time": "2024-02-27T19:22:35.548293900Z"
    }
   }
  },
  {
   "cell_type": "markdown",
   "source": [
    "Создадим функцию подсчета суммарного веса полученных сигналов"
   ],
   "metadata": {
    "collapsed": false
   }
  },
  {
   "cell_type": "code",
   "execution_count": 272,
   "outputs": [],
   "source": [
    "def calculate_res(input_number, first_layer_weights):\n",
    "  sum = 0\n",
    "  for i in range(2):\n",
    "    sum += input_number[0][i-1] * first_layer_weights[i]\n",
    "  return sum"
   ],
   "metadata": {
    "collapsed": false,
    "ExecuteTime": {
     "end_time": "2024-02-27T19:22:35.556207400Z",
     "start_time": "2024-02-27T19:22:35.553206900Z"
    }
   }
  },
  {
   "cell_type": "markdown",
   "source": [
    "Зададим функцию, формирующую сигнал корректировки весов в зависимости от соотношения ответа нейронной сети и правильного ответа"
   ],
   "metadata": {
    "collapsed": false
   }
  },
  {
   "cell_type": "code",
   "execution_count": 273,
   "outputs": [],
   "source": [
    "def weight_changing(positive, target):\n",
    "  k = 0\n",
    "  if positive and not target:\n",
    "    k = -0.1\n",
    "  elif not positive and target:\n",
    "    k = 0.1\n",
    "  return k"
   ],
   "metadata": {
    "collapsed": false,
    "ExecuteTime": {
     "end_time": "2024-02-27T19:22:35.560206700Z",
     "start_time": "2024-02-27T19:22:35.557206400Z"
    }
   }
  },
  {
   "cell_type": "markdown",
   "source": [
    "Пропишем функции для обучения нейронной сети"
   ],
   "metadata": {
    "collapsed": false
   }
  },
  {
   "cell_type": "code",
   "execution_count": 274,
   "outputs": [],
   "source": [
    "def learn(input_number, first_layer_weights, target):\n",
    "  k = weight_changing(result_bin_class(calculate_res(input_number, first_layer_weights)), True if input_number[1] == target else False)\n",
    "  for i in range(2):\n",
    "    first_layer_weights[i] += input_number[0][i-1] * k\n",
    "  return first_layer_weights"
   ],
   "metadata": {
    "collapsed": false,
    "ExecuteTime": {
     "end_time": "2024-02-27T19:22:35.564236500Z",
     "start_time": "2024-02-27T19:22:35.562236900Z"
    }
   }
  },
  {
   "cell_type": "code",
   "execution_count": 275,
   "outputs": [],
   "source": [
    "def train_nn(input_dataset, first_layer_weights, target, size_of_data):\n",
    "  for i in range(size_of_data):\n",
    "    first_layer_weights = learn(random.choice(input_dataset), first_layer_weights, target)"
   ],
   "metadata": {
    "collapsed": false,
    "ExecuteTime": {
     "end_time": "2024-02-27T19:22:35.568285100Z",
     "start_time": "2024-02-27T19:22:35.565236700Z"
    }
   }
  },
  {
   "cell_type": "markdown",
   "source": [
    "Пропишем функции для тестирования точности нейросети"
   ],
   "metadata": {
    "collapsed": false
   }
  },
  {
   "cell_type": "code",
   "execution_count": 276,
   "outputs": [],
   "source": [
    "def test(input_number, first_layer_weights, target):\n",
    "  if (result_bin_class(calculate_res(input_number, first_layer_weights)) == (True if input_number[1] == target else False)):\n",
    "    return 1\n",
    "  else:\n",
    "    return 0"
   ],
   "metadata": {
    "collapsed": false,
    "ExecuteTime": {
     "end_time": "2024-02-27T19:22:35.573285100Z",
     "start_time": "2024-02-27T19:22:35.569287700Z"
    }
   }
  },
  {
   "cell_type": "code",
   "execution_count": 277,
   "outputs": [],
   "source": [
    "def test_nn(input_dataset, first_layer_weights, target, size_of_data):\n",
    "  res = 0\n",
    "  for i in range(size_of_data):\n",
    "    res += test(random.choice(input_dataset), first_layer_weights, target)\n",
    "  return (res / size_of_data)"
   ],
   "metadata": {
    "collapsed": false,
    "ExecuteTime": {
     "end_time": "2024-02-27T19:22:35.605707300Z",
     "start_time": "2024-02-27T19:22:35.574799400Z"
    }
   }
  },
  {
   "cell_type": "code",
   "execution_count": 278,
   "outputs": [],
   "source": [
    "train_nn(noise_dataset, first_layer_weights, 1, 8000)"
   ],
   "metadata": {
    "collapsed": false,
    "ExecuteTime": {
     "end_time": "2024-02-27T19:22:35.645111Z",
     "start_time": "2024-02-27T19:22:35.578105900Z"
    }
   }
  },
  {
   "cell_type": "code",
   "execution_count": 279,
   "outputs": [
    {
     "data": {
      "text/plain": "array([[1.425],\n       [1.674]])"
     },
     "execution_count": 279,
     "metadata": {},
     "output_type": "execute_result"
    }
   ],
   "source": [
    "first_layer_weights"
   ],
   "metadata": {
    "collapsed": false,
    "ExecuteTime": {
     "end_time": "2024-02-27T19:22:35.648551600Z",
     "start_time": "2024-02-27T19:22:35.646111300Z"
    }
   }
  },
  {
   "cell_type": "code",
   "execution_count": 280,
   "outputs": [
    {
     "name": "stdout",
     "output_type": "stream",
     "text": [
      "Accuracy-score:  0.921\n"
     ]
    }
   ],
   "source": [
    "print('Accuracy-score: ', test_nn(noise_dataset, first_layer_weights, 1, 2000))"
   ],
   "metadata": {
    "collapsed": false,
    "ExecuteTime": {
     "end_time": "2024-02-27T19:22:35.681181400Z",
     "start_time": "2024-02-27T19:22:35.649551600Z"
    }
   }
  }
 ],
 "metadata": {
  "colab": {
   "provenance": []
  },
  "kernelspec": {
   "name": "python3",
   "language": "python",
   "display_name": "Python 3 (ipykernel)"
  },
  "language_info": {
   "name": "python"
  }
 },
 "nbformat": 4,
 "nbformat_minor": 0
}
